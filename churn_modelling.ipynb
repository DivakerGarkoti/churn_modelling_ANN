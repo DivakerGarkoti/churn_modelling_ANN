{
 "cells": [
  {
   "cell_type": "code",
   "execution_count": null,
   "id": "6f60c295-a937-4c96-ad29-0b1ee8d19494",
   "metadata": {},
   "outputs": [],
   "source": []
  }
 ],
 "metadata": {
  "kernelspec": {
   "display_name": "",
   "name": ""
  },
  "language_info": {
   "name": ""
  }
 },
 "nbformat": 4,
 "nbformat_minor": 5
}
